{
  "cells": [
    {
      "cell_type": "markdown",
      "metadata": {
        "id": "UQ4S-frl4CXz"
      },
      "source": [
        "# Numpy Project - Part 2: The Validity of a solution\n",
        "\n",
        "We'll reveal the true objective of this project: create an algorithm to solve sudokus! That'll be a ton of fun, but for now, we need to first nail down a few required functions.\n",
        "\n",
        "For this second part, we'll be trying to validate a board; if a proposed solution is valid or not. As you might know, the rules of Sudoku are straightforward: there are numbers 1-9 and they can't be repeated in either rows, columns or 3x3 blocks."
      ]
    },
    {
      "cell_type": "markdown",
      "metadata": {
        "id": "4tzIVEdU4CX0"
      },
      "source": [
        "**IMPORTANT:** This 2nd part will use the `Board` class produced in Part 1. Make sure all the tests are passing."
      ]
    },
    {
      "cell_type": "code",
      "execution_count": 1,
      "metadata": {
        "id": "_iDWEgPo4CX1"
      },
      "outputs": [],
      "source": [
        "import numpy as np\n",
        "import collections\n",
        "\n",
        "from sudoku import Board\n"
      ]
    },
    {
      "cell_type": "markdown",
      "metadata": {
        "id": "ckNQLrbt4CX1"
      },
      "source": [
        "In this case, we'll use the following two sudoku boards. Our original one from part 1:\n",
        "\n",
        "<img src=\"https://user-images.githubusercontent.com/872296/68136001-49d21400-ff03-11e9-8750-acb846e23046.png\" width=\"600px\">"
      ]
    },
    {
      "cell_type": "code",
      "execution_count": 2,
      "metadata": {
        "id": "PZAEDwxa4CX1"
      },
      "outputs": [],
      "source": [
        "arr_valid = np.array([\n",
        "    [0, 2, 0, 0, 8, 0, 0, 5, 0],\n",
        "    [4, 0, 0, 0, 0, 6, 8, 0, 0],\n",
        "    [6, 0, 0, 4, 5, 3, 9, 7, 0],\n",
        "    [0, 0, 0, 0, 0, 2, 0, 9, 0],\n",
        "    [0, 0, 4, 0, 0, 0, 6, 0, 0],\n",
        "    [0, 1, 0, 3, 0, 0, 0, 0, 0],\n",
        "    [0, 5, 7, 1, 3, 4, 0, 0, 9],\n",
        "    [0, 0, 9, 6, 0, 0, 0, 0, 5],\n",
        "    [0, 3, 0, 0, 2, 0, 0, 8, 0]])"
      ]
    },
    {
      "cell_type": "markdown",
      "metadata": {
        "id": "setx5GRc4CX2"
      },
      "source": [
        "and an \"invalid\" one, that we've purposely invalidated to practice these functions. We've introduced 3 numbers that invalidate sudoku rules (marked in red):\n",
        "\n",
        "<img src=\"https://user-images.githubusercontent.com/872296/68214887-05a34a00-ffbd-11e9-9f6f-922b69599428.png\" width=\"600px\" align=\"center\">"
      ]
    },
    {
      "cell_type": "markdown",
      "metadata": {
        "id": "ZOfVsUhG4CX2"
      },
      "source": [
        "The number `5` added in the 2nd row, 2nd column invalidates the board because there's another number `5` in the same column. The number `8` invalidates as there's another `8` in the same block, and `4` is repeated in the same row."
      ]
    },
    {
      "cell_type": "code",
      "execution_count": 3,
      "metadata": {
        "id": "_uHKW5NI4CX2"
      },
      "outputs": [],
      "source": [
        "arr_invalid = np.array([\n",
        "    [0, 2, 0, 0, 8, 0, 0, 5, 0],\n",
        "    [4, 5, 0, 0, 8, 6, 8, 0, 0],\n",
        "    [6, 0, 0, 4, 5, 3, 9, 7, 0],\n",
        "    [0, 0, 0, 0, 0, 2, 0, 9, 0],\n",
        "    [0, 0, 4, 0, 0, 0, 6, 4, 0],\n",
        "    [0, 1, 0, 3, 0, 0, 0, 0, 0],\n",
        "    [0, 5, 7, 1, 3, 4, 0, 0, 9],\n",
        "    [0, 0, 9, 6, 0, 0, 0, 0, 5],\n",
        "    [0, 3, 0, 0, 2, 0, 0, 8, 0]])"
      ]
    },
    {
      "cell_type": "markdown",
      "metadata": {
        "id": "m3mMYhLR4CX2"
      },
      "source": [
        "Initializing now the boards objects:"
      ]
    },
    {
      "cell_type": "code",
      "execution_count": 4,
      "metadata": {
        "id": "dOVh0PNX4CX2"
      },
      "outputs": [],
      "source": [
        "valid = Board(arr_valid)\n",
        "invalid = Board(arr_invalid)"
      ]
    },
    {
      "cell_type": "markdown",
      "metadata": {
        "id": "brIREHlW4CX3"
      },
      "source": [
        "### Testing if a row, column or block is valid"
      ]
    },
    {
      "cell_type": "markdown",
      "metadata": {
        "id": "DY0kfrpp4CX3"
      },
      "source": [
        "We'll write a function `is_subset_valid` that will receive either a row, column or block, and return if it's valid or not.\n",
        "\n",
        "##### a) Checking rows"
      ]
    },
    {
      "cell_type": "code",
      "execution_count": 5,
      "metadata": {
        "id": "wtLAIVxQ4CX3"
      },
      "outputs": [],
      "source": [
        "# Solution\n",
        "def is_subset_valid(arr):\n",
        "    count = dict(collections.Counter(arr.flatten()))\n",
        "    if 0 in count:\n",
        "        del count[0]\n",
        "    return len([key for key, val in count.items() if val > 1]) == 0"
      ]
    },
    {
      "cell_type": "markdown",
      "metadata": {
        "id": "WzJjwD9d4CX3"
      },
      "source": [
        "Let's test it with different things:"
      ]
    },
    {
      "cell_type": "code",
      "execution_count": 6,
      "metadata": {
        "colab": {
          "base_uri": "https://localhost:8080/"
        },
        "id": "iJoDrnkM4CX3",
        "outputId": "a0d77e90-15e1-4ac1-f1aa-b6dc25d6dd40"
      },
      "outputs": [
        {
          "output_type": "execute_result",
          "data": {
            "text/plain": [
              "array([4, 0, 0, 0, 0, 6, 8, 0, 0])"
            ]
          },
          "metadata": {},
          "execution_count": 6
        }
      ],
      "source": [
        "valid_row = valid.get_row(1)\n",
        "valid_row"
      ]
    },
    {
      "cell_type": "code",
      "execution_count": 7,
      "metadata": {
        "id": "k4ipkK8K4CX4"
      },
      "outputs": [],
      "source": [
        "assert is_subset_valid(valid_row) is True"
      ]
    },
    {
      "cell_type": "code",
      "execution_count": 8,
      "metadata": {
        "colab": {
          "base_uri": "https://localhost:8080/"
        },
        "id": "UQO49fft4CX4",
        "outputId": "d11c6907-fa93-48c1-a4e0-718d33bc55bf"
      },
      "outputs": [
        {
          "output_type": "execute_result",
          "data": {
            "text/plain": [
              "array([0, 0, 4, 0, 0, 0, 6, 4, 0])"
            ]
          },
          "metadata": {},
          "execution_count": 8
        }
      ],
      "source": [
        "invalid_row = invalid.get_row(4)\n",
        "invalid_row  # Number 4 is repeated"
      ]
    },
    {
      "cell_type": "code",
      "execution_count": 9,
      "metadata": {
        "id": "p5y8M5G64CX4"
      },
      "outputs": [],
      "source": [
        "assert is_subset_valid(invalid_row) is False"
      ]
    },
    {
      "cell_type": "markdown",
      "metadata": {
        "id": "7iB5cIAV4CX5"
      },
      "source": [
        "##### a) Checking columns"
      ]
    },
    {
      "cell_type": "code",
      "execution_count": 10,
      "metadata": {
        "colab": {
          "base_uri": "https://localhost:8080/"
        },
        "id": "o0f8aB8y4CX5",
        "outputId": "a7c10a99-8141-4e69-8529-ebc213b49b73"
      },
      "outputs": [
        {
          "output_type": "execute_result",
          "data": {
            "text/plain": [
              "array([0, 0, 4, 0, 0, 3, 1, 6, 0])"
            ]
          },
          "metadata": {},
          "execution_count": 10
        }
      ],
      "source": [
        "valid_col = valid.get_column(3)\n",
        "valid_col"
      ]
    },
    {
      "cell_type": "code",
      "execution_count": 11,
      "metadata": {
        "id": "keDH8yPB4CX5"
      },
      "outputs": [],
      "source": [
        "assert is_subset_valid(valid_col) is True"
      ]
    },
    {
      "cell_type": "code",
      "execution_count": 12,
      "metadata": {
        "colab": {
          "base_uri": "https://localhost:8080/"
        },
        "id": "5r43Oowz4CX5",
        "outputId": "95d3c15b-445a-4ab1-d944-dc8d8a35f3b3"
      },
      "outputs": [
        {
          "output_type": "execute_result",
          "data": {
            "text/plain": [
              "array([2, 5, 0, 0, 0, 1, 5, 0, 3])"
            ]
          },
          "metadata": {},
          "execution_count": 12
        }
      ],
      "source": [
        "invalid_col = invalid.get_column(1)\n",
        "invalid_col  # Number 5 is repeated"
      ]
    },
    {
      "cell_type": "code",
      "execution_count": 13,
      "metadata": {
        "id": "ZuNuHFz54CX5"
      },
      "outputs": [],
      "source": [
        "assert is_subset_valid(invalid_col) is False"
      ]
    },
    {
      "cell_type": "markdown",
      "metadata": {
        "id": "qXhaCwWQ4CX5"
      },
      "source": [
        "##### a) Checking blocks"
      ]
    },
    {
      "cell_type": "code",
      "execution_count": 14,
      "metadata": {
        "colab": {
          "base_uri": "https://localhost:8080/"
        },
        "id": "ULMzGlSz4CX5",
        "outputId": "2875f92e-0c93-44a3-bb0b-c79e052b6fdf"
      },
      "outputs": [
        {
          "output_type": "execute_result",
          "data": {
            "text/plain": [
              "array([[0, 8, 0],\n",
              "       [0, 0, 6],\n",
              "       [4, 5, 3]])"
            ]
          },
          "metadata": {},
          "execution_count": 14
        }
      ],
      "source": [
        "valid_block = valid.get_block(0, 1)\n",
        "valid_block"
      ]
    },
    {
      "cell_type": "code",
      "execution_count": 15,
      "metadata": {
        "id": "-RgUkvPd4CX5"
      },
      "outputs": [],
      "source": [
        "assert is_subset_valid(valid_block) is True"
      ]
    },
    {
      "cell_type": "code",
      "execution_count": 16,
      "metadata": {
        "colab": {
          "base_uri": "https://localhost:8080/"
        },
        "id": "VWWsOqRg4CX6",
        "outputId": "64830883-efd5-46a2-8c38-2be80bfa64c7"
      },
      "outputs": [
        {
          "output_type": "execute_result",
          "data": {
            "text/plain": [
              "array([[0, 8, 0],\n",
              "       [0, 8, 6],\n",
              "       [4, 5, 3]])"
            ]
          },
          "metadata": {},
          "execution_count": 16
        }
      ],
      "source": [
        "invalid_block = invalid.get_block(0, 1)\n",
        "invalid_block  # Number 8 is repeated"
      ]
    },
    {
      "cell_type": "code",
      "execution_count": 17,
      "metadata": {
        "id": "H0juqoZR4CX6"
      },
      "outputs": [],
      "source": [
        "assert is_subset_valid(invalid_block) is False"
      ]
    },
    {
      "cell_type": "markdown",
      "metadata": {
        "id": "O-zFY41F4CX6"
      },
      "source": [
        "### Testing a valid board\n",
        "\n",
        "We can now move forward to our `is_valid` function, that will receive a `Board` and will check if it's valid or not."
      ]
    },
    {
      "cell_type": "code",
      "execution_count": 18,
      "metadata": {
        "id": "CO77bz5P4CX6"
      },
      "outputs": [],
      "source": [
        "# Solution\n",
        "import itertools\n",
        "def is_valid(board):\n",
        "    rows = board.iter_rows()\n",
        "    cols = board.iter_columns()\n",
        "    blocks = board.iter_blocks()\n",
        "    for subset in itertools.chain(rows, cols, blocks):\n",
        "        if not is_subset_valid(subset):\n",
        "            return False\n",
        "    return True"
      ]
    },
    {
      "cell_type": "markdown",
      "metadata": {
        "id": "GxCORX8B4CX6"
      },
      "source": [
        "And now we can test it:"
      ]
    },
    {
      "cell_type": "code",
      "execution_count": 19,
      "metadata": {
        "id": "MPkEFx0e4CX6"
      },
      "outputs": [],
      "source": [
        "assert is_valid(valid) is True"
      ]
    },
    {
      "cell_type": "code",
      "execution_count": 20,
      "metadata": {
        "id": "94H93zH84CX6"
      },
      "outputs": [],
      "source": [
        "assert is_valid(invalid) is False"
      ]
    },
    {
      "cell_type": "markdown",
      "metadata": {
        "id": "HF4aYjiD4CX7"
      },
      "source": [
        "## Time to test!\n",
        "\n",
        "Now it's time to move your code to `sudoku.py` and then run all the tests; if they're passing, you can move to the next step!"
      ]
    },
    {
      "cell_type": "code",
      "source": [
        "with open('test_part_2.py', 'w') as f:\n",
        "    f.write('''\n",
        "import numpy as np\n",
        "from sudoku import Board, is_subset_valid, is_valid\n",
        "\n",
        "VALID_BOARD_ARR = np.array([\n",
        "    [8, 0, 1, 0, 0, 3, 9, 0, 6],\n",
        "    [0, 0, 9, 0, 0, 7, 8, 5, 0],\n",
        "    [2, 5, 0, 1, 0, 0, 4, 7, 0],\n",
        "    [5, 0, 0, 0, 6, 1, 7, 0, 4],\n",
        "    [7, 6, 0, 8, 3, 0, 0, 0, 0],\n",
        "    [0, 3, 2, 0, 0, 0, 0, 0, 0],\n",
        "    [0, 2, 0, 0, 1, 9, 5, 0, 0],\n",
        "    [0, 0, 5, 0, 0, 0, 3, 0, 2],\n",
        "    [0, 0, 0, 4, 5, 2, 1, 9, 7]])\n",
        "\n",
        "\n",
        "INVALID_BOARD_ARR = np.array([\n",
        "    [8, 0, 1, 0, 3, 3, 9, 0, 6],   # There's a 3 in (0, 4)\n",
        "    [0, 0, 9, 0, 0, 7, 8, 5, 0],\n",
        "    [2, 5, 0, 1, 0, 0, 4, 7, 0],\n",
        "    [5, 0, 0, 0, 6, 1, 7, 0, 4],\n",
        "    [7, 6, 0, 8, 3, 0, 0, 0, 0],\n",
        "    [0, 3, 2, 0, 0, 0, 0, 0, 0],\n",
        "    [0, 2, 0, 0, 1, 9, 5, 0, 0],\n",
        "    [0, 0, 5, 0, 0, 0, 3, 0, 2],\n",
        "    [0, 0, 0, 4, 5, 2, 1, 9, 7]])\n",
        "\n",
        "\n",
        "# Invalid subsets:\n",
        "def test_subset_invalid_row():\n",
        "    board = Board(INVALID_BOARD_ARR)\n",
        "    assert is_subset_valid(board.get_row(0)) is False\n",
        "\n",
        "\n",
        "def test_subset_invalid_column():\n",
        "    board = Board(INVALID_BOARD_ARR)\n",
        "    assert is_subset_valid(board.get_column(4)) is False\n",
        "\n",
        "\n",
        "def test_subset_invalid_block():\n",
        "    board = Board(INVALID_BOARD_ARR)\n",
        "    assert is_subset_valid(board.get_block(0, 1)) is False\n",
        "\n",
        "# Valid subsets:\n",
        "def test_subset_valid_row():\n",
        "    board = Board(VALID_BOARD_ARR)\n",
        "    assert is_subset_valid(board.get_row(0)) is True\n",
        "\n",
        "\n",
        "def test_subset_valid_column():\n",
        "    board = Board(VALID_BOARD_ARR)\n",
        "    assert is_subset_valid(board.get_column(4)) is True\n",
        "\n",
        "\n",
        "def test_subset_valid_block():\n",
        "    board = Board(VALID_BOARD_ARR)\n",
        "    assert is_subset_valid(board.get_block(0, 1)) is True\n",
        "\n",
        "\n",
        "# Valid Board:\n",
        "def test_is_valid():\n",
        "    board = Board(VALID_BOARD_ARR)\n",
        "    assert is_valid(board) is True\n",
        "\n",
        "\n",
        "# Invalid Board:\n",
        "def test_is_invalid():\n",
        "    board = Board(INVALID_BOARD_ARR)\n",
        "    assert is_valid(board) is False\n",
        "''')\n"
      ],
      "metadata": {
        "id": "hHwr5Q-a5K5W"
      },
      "execution_count": 21,
      "outputs": []
    },
    {
      "cell_type": "code",
      "execution_count": 22,
      "metadata": {
        "colab": {
          "base_uri": "https://localhost:8080/"
        },
        "id": "2oCul6At4CX7",
        "outputId": "a331ea96-d44b-41da-a7dd-f46e622e7423"
      },
      "outputs": [
        {
          "output_type": "stream",
          "name": "stdout",
          "text": [
            "\u001b[1m======================================= test session starts ========================================\u001b[0m\n",
            "platform linux -- Python 3.10.12, pytest-7.4.4, pluggy-1.5.0\n",
            "rootdir: /content\n",
            "plugins: typeguard-4.3.0, anyio-3.7.1\n",
            "\u001b[1mcollecting ... \u001b[0m\u001b[1m\rcollected 8 items                                                                                  \u001b[0m\n",
            "\n",
            "test_part_2.py \u001b[32m.\u001b[0m\u001b[32m.\u001b[0m\u001b[32m.\u001b[0m\u001b[32m.\u001b[0m\u001b[32m.\u001b[0m\u001b[32m.\u001b[0m\u001b[32m.\u001b[0m\u001b[32m.\u001b[0m\u001b[32m                                                                      [100%]\u001b[0m\n",
            "\n",
            "\u001b[32m======================================== \u001b[32m\u001b[1m8 passed\u001b[0m\u001b[32m in 0.18s\u001b[0m\u001b[32m =========================================\u001b[0m\n"
          ]
        }
      ],
      "source": [
        "!pytest test_part_2.py"
      ]
    },
    {
      "cell_type": "code",
      "source": [],
      "metadata": {
        "id": "Xgpd_-CtE7J_"
      },
      "execution_count": null,
      "outputs": []
    }
  ],
  "metadata": {
    "kernelspec": {
      "display_name": "Python 3",
      "language": "python",
      "name": "python3"
    },
    "language_info": {
      "codemirror_mode": {
        "name": "ipython",
        "version": 3
      },
      "file_extension": ".py",
      "mimetype": "text/x-python",
      "name": "python",
      "nbconvert_exporter": "python",
      "pygments_lexer": "ipython3",
      "version": "3.7.4"
    },
    "colab": {
      "provenance": []
    }
  },
  "nbformat": 4,
  "nbformat_minor": 0
}