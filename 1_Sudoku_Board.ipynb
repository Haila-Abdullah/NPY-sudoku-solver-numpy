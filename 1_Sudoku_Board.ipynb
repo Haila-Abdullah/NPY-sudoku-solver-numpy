{
  "cells": [
    {
      "cell_type": "markdown",
      "metadata": {
        "id": "view-in-github",
        "colab_type": "text"
      },
      "source": [
        "<a href=\"https://colab.research.google.com/github/Haila-Abdullah/NPY-sudoku-solver-numpy/blob/master/1_Sudoku_Board.ipynb\" target=\"_parent\"><img src=\"https://colab.research.google.com/assets/colab-badge.svg\" alt=\"Open In Colab\"/></a>"
      ]
    },
    {
      "cell_type": "markdown",
      "metadata": {
        "id": "0iBl388qu4uf"
      },
      "source": [
        "# Numpy Project - Part 1: The Sudoku Board\n",
        "\n",
        "This is the first part of our Numpy project. This project is about playing Sudoku with Numpy. Sounds like fun, right? 😃\n",
        "\n",
        "This first part will focus on array creation and the structure of the game: the board."
      ]
    },
    {
      "cell_type": "code",
      "execution_count": 1,
      "metadata": {
        "id": "oRtzS9Xou4uh"
      },
      "outputs": [],
      "source": [
        "import numpy as np"
      ]
    },
    {
      "cell_type": "markdown",
      "metadata": {
        "id": "lLuT1fGMu4uh"
      },
      "source": [
        "We'll use the following board as an example:"
      ]
    },
    {
      "cell_type": "markdown",
      "metadata": {
        "id": "IzqjJhYru4uh"
      },
      "source": [
        "<img src=\"https://user-images.githubusercontent.com/872296/68136001-49d21400-ff03-11e9-8750-acb846e23046.png\" width=\"600px\">"
      ]
    },
    {
      "cell_type": "markdown",
      "metadata": {
        "id": "VQQRijTDu4ui"
      },
      "source": [
        "We'll create boards from strings, as follows:"
      ]
    },
    {
      "cell_type": "code",
      "execution_count": 2,
      "metadata": {
        "id": "iHe6T-ZVu4ui"
      },
      "outputs": [],
      "source": [
        "puzzle_str = \"\"\"\n",
        "020080050\n",
        "400006800\n",
        "600453970\n",
        "000002090\n",
        "004000600\n",
        "010300000\n",
        "057134009\n",
        "009600005\n",
        "030020080\n",
        "\"\"\""
      ]
    },
    {
      "cell_type": "markdown",
      "metadata": {
        "id": "0YQX6idmu4ui"
      },
      "source": [
        "This is already solved, there's nothing to do here, but if you have a second, please try reading and understanding what this line does:"
      ]
    },
    {
      "cell_type": "code",
      "execution_count": 3,
      "metadata": {
        "colab": {
          "base_uri": "https://localhost:8080/"
        },
        "id": "wrA6h4gvu4ui",
        "outputId": "37a37fb8-b3f1-4684-df1f-6f2a4fea5395"
      },
      "outputs": [
        {
          "output_type": "execute_result",
          "data": {
            "text/plain": [
              "[['0', '2', '0', '0', '8', '0', '0', '5', '0'],\n",
              " ['4', '0', '0', '0', '0', '6', '8', '0', '0'],\n",
              " ['6', '0', '0', '4', '5', '3', '9', '7', '0'],\n",
              " ['0', '0', '0', '0', '0', '2', '0', '9', '0'],\n",
              " ['0', '0', '4', '0', '0', '0', '6', '0', '0'],\n",
              " ['0', '1', '0', '3', '0', '0', '0', '0', '0'],\n",
              " ['0', '5', '7', '1', '3', '4', '0', '0', '9'],\n",
              " ['0', '0', '9', '6', '0', '0', '0', '0', '5'],\n",
              " ['0', '3', '0', '0', '2', '0', '0', '8', '0']]"
            ]
          },
          "metadata": {},
          "execution_count": 3
        }
      ],
      "source": [
        "[list(line.strip()) for line in puzzle_str.split('\\n') if line.strip()]\n"
      ]
    },
    {
      "cell_type": "markdown",
      "metadata": {
        "id": "8Pw8JMVbu4ui"
      },
      "source": [
        "As any meaningful code we create and find useful, we'll try refactoring it into its own reusable function:"
      ]
    },
    {
      "cell_type": "code",
      "execution_count": 6,
      "metadata": {
        "id": "_v1zY-dOu4uj"
      },
      "outputs": [],
      "source": [
        "def string_puzzle_to_arr(puzzle):\n",
        "    return np.array([list(line.strip()) for line in puzzle.split('\\n') if line.strip()], dtype=int)"
      ]
    },
    {
      "cell_type": "code",
      "execution_count": 7,
      "metadata": {
        "colab": {
          "base_uri": "https://localhost:8080/"
        },
        "id": "1HifbUmku4uj",
        "outputId": "9aca74bf-e866-4126-b397-f9c09af8cec7"
      },
      "outputs": [
        {
          "output_type": "execute_result",
          "data": {
            "text/plain": [
              "array([[0, 2, 0, 0, 8, 0, 0, 5, 0],\n",
              "       [4, 0, 0, 0, 0, 6, 8, 0, 0],\n",
              "       [6, 0, 0, 4, 5, 3, 9, 7, 0],\n",
              "       [0, 0, 0, 0, 0, 2, 0, 9, 0],\n",
              "       [0, 0, 4, 0, 0, 0, 6, 0, 0],\n",
              "       [0, 1, 0, 3, 0, 0, 0, 0, 0],\n",
              "       [0, 5, 7, 1, 3, 4, 0, 0, 9],\n",
              "       [0, 0, 9, 6, 0, 0, 0, 0, 5],\n",
              "       [0, 3, 0, 0, 2, 0, 0, 8, 0]])"
            ]
          },
          "metadata": {},
          "execution_count": 7
        }
      ],
      "source": [
        "puzzle = string_puzzle_to_arr(puzzle_str)\n",
        "puzzle"
      ]
    },
    {
      "cell_type": "markdown",
      "metadata": {
        "id": "ksmYkSX9u4uj"
      },
      "source": [
        "👆 you can use this `puzzle` variable to practice before moving to the actual assignment:\n",
        "* get rows\n",
        "* get columns\n",
        "* get _blocks_ (3x3 squares)\n"
      ]
    },
    {
      "cell_type": "markdown",
      "metadata": {
        "id": "cYqS3W7su4uj"
      },
      "source": [
        "<img width=\"452\" src=\"https://user-images.githubusercontent.com/872296/68136806-a3870e00-ff04-11e9-87d4-489485501fa3.png\">"
      ]
    },
    {
      "cell_type": "markdown",
      "metadata": {
        "id": "nL8dZqwCu4uj"
      },
      "source": [
        "#### Getting a row\n",
        "\n",
        "Rows and columns are 0-indexed, as other Python collections. That means that the _third_ row (or column) is actually index `2`. Practice here how to get the row with index `2`, you should get:"
      ]
    },
    {
      "cell_type": "code",
      "execution_count": 8,
      "metadata": {
        "id": "MnLVbZ7Du4uk"
      },
      "outputs": [],
      "source": [
        "# Solution\n",
        "third_row = puzzle[2]"
      ]
    },
    {
      "cell_type": "markdown",
      "metadata": {
        "id": "bpQ1f3Emu4uk"
      },
      "source": [
        "expected:"
      ]
    },
    {
      "cell_type": "code",
      "execution_count": 9,
      "metadata": {
        "id": "OevX8UFPu4uk"
      },
      "outputs": [],
      "source": [
        "assert np.array_equal(third_row, np.array([6, 0, 0, 4, 5, 3, 9, 7, 0]))"
      ]
    },
    {
      "cell_type": "markdown",
      "metadata": {
        "id": "kE8KfBFCu4uk"
      },
      "source": [
        "#### Getting a column\n",
        "\n",
        "Columns are also 0-indexed. Practice here how to get the _5th_ column, which is index `4`, you should get:"
      ]
    },
    {
      "cell_type": "code",
      "execution_count": 10,
      "metadata": {
        "id": "6fGp-nBCu4uk"
      },
      "outputs": [],
      "source": [
        "# Solution\n",
        "fifth_col = puzzle[:, 4]\n",
        "\n",
        "# Alternative\n",
        "fifth_col = puzzle.T[4]"
      ]
    },
    {
      "cell_type": "code",
      "execution_count": 11,
      "metadata": {
        "id": "tCwXGcKmu4uk"
      },
      "outputs": [],
      "source": [
        "assert np.array_equal(fifth_col, np.array([8, 0, 5, 0, 0, 0, 3, 0, 2]))"
      ]
    },
    {
      "cell_type": "markdown",
      "metadata": {
        "id": "UD8CHplVu4uk"
      },
      "source": [
        "#### Getting a column\n",
        "\n",
        "Blocks are 3x3 squares with 9 numbers, which by sudoku rules, can't contain repeated numbers, refresher image again:"
      ]
    },
    {
      "cell_type": "markdown",
      "metadata": {
        "id": "sKNQy9vAu4uk"
      },
      "source": [
        "<img width=\"452\" src=\"https://user-images.githubusercontent.com/872296/68136806-a3870e00-ff04-11e9-87d4-489485501fa3.png\">"
      ]
    },
    {
      "cell_type": "markdown",
      "metadata": {
        "id": "0iYj5y11u4ul"
      },
      "source": [
        "We'll be referencing blocks by 2 indices, the first one vertically (top-bottom), the second one horizontally (left-right).\n",
        "\n",
        "The special characteristic of a block, is that it'll be a matrix, not a vector (2 dimensional, 3x3 matrix)."
      ]
    },
    {
      "cell_type": "markdown",
      "metadata": {
        "id": "TH60GbxMu4ul"
      },
      "source": [
        "For example, block `(2, 2)` is:"
      ]
    },
    {
      "cell_type": "code",
      "execution_count": 12,
      "metadata": {
        "colab": {
          "base_uri": "https://localhost:8080/"
        },
        "id": "0yZQdgWfu4ul",
        "outputId": "a39bf9dd-b3ab-41c7-8a4e-02ec6d5801a6"
      },
      "outputs": [
        {
          "output_type": "execute_result",
          "data": {
            "text/plain": [
              "array([[0, 0, 9],\n",
              "       [0, 0, 5],\n",
              "       [0, 8, 0]])"
            ]
          },
          "metadata": {},
          "execution_count": 12
        }
      ],
      "source": [
        "np.array([\n",
        "    [0, 0, 9],\n",
        "    [0, 0, 5],\n",
        "    [0, 8, 0]\n",
        "])"
      ]
    },
    {
      "cell_type": "markdown",
      "metadata": {
        "id": "SwFq2pnHu4ul"
      },
      "source": [
        "And block `(0, 1)` is:"
      ]
    },
    {
      "cell_type": "code",
      "execution_count": 13,
      "metadata": {
        "colab": {
          "base_uri": "https://localhost:8080/"
        },
        "id": "MyNiYqkou4ul",
        "outputId": "ed708c8d-d06f-441b-85df-df3934df4432"
      },
      "outputs": [
        {
          "output_type": "execute_result",
          "data": {
            "text/plain": [
              "array([[0, 8, 0],\n",
              "       [0, 0, 6],\n",
              "       [4, 5, 3]])"
            ]
          },
          "metadata": {},
          "execution_count": 13
        }
      ],
      "source": [
        "np.array([\n",
        "    [0, 8, 0],\n",
        "    [0, 0, 6],\n",
        "    [4, 5, 3]\n",
        "])"
      ]
    },
    {
      "cell_type": "markdown",
      "metadata": {
        "id": "Ko9ynMFZu4ul"
      },
      "source": [
        "Time to practice, your task is to extract the block `(1, 2)`:"
      ]
    },
    {
      "cell_type": "code",
      "execution_count": 14,
      "metadata": {
        "id": "3vrT3AtZu4ul"
      },
      "outputs": [],
      "source": [
        "# Solution\n",
        "block_1_2 = puzzle[3:6, 6:9]"
      ]
    },
    {
      "cell_type": "code",
      "execution_count": 15,
      "metadata": {
        "id": "NWebso4Ju4ul"
      },
      "outputs": [],
      "source": [
        "expected_block = np.array([\n",
        "    [0, 9, 0],\n",
        "    [6, 0, 0],\n",
        "    [0, 0, 0]\n",
        "])"
      ]
    },
    {
      "cell_type": "code",
      "execution_count": 16,
      "metadata": {
        "id": "Y85CQwPNu4ul"
      },
      "outputs": [],
      "source": [
        "assert np.array_equal(block_1_2, expected_block)"
      ]
    },
    {
      "cell_type": "markdown",
      "metadata": {
        "id": "U_7D5WTgu4um"
      },
      "source": [
        "### Iterating the board\n",
        "\n",
        "We'll implement now 3 methods that will be useful later:\n",
        "\n",
        "* `iter_rows()`\n",
        "* `iter_columns()`\n",
        "* `iter_blocks()`\n",
        "\n",
        "These methods are extremely simple, they'll just return a list of all the rows/columns/blocks to be used later. For example, I'll start providing the code to iterate all the rows in the board:"
      ]
    },
    {
      "cell_type": "code",
      "execution_count": 17,
      "metadata": {
        "colab": {
          "base_uri": "https://localhost:8080/"
        },
        "id": "8ifLR7hQu4um",
        "outputId": "71ecbb8a-3255-48f6-9f33-d0eea3db7986"
      },
      "outputs": [
        {
          "output_type": "stream",
          "name": "stdout",
          "text": [
            "Row: [0 2 0 0 8 0 0 5 0]\n",
            "Row: [4 0 0 0 0 6 8 0 0]\n",
            "Row: [6 0 0 4 5 3 9 7 0]\n",
            "Row: [0 0 0 0 0 2 0 9 0]\n",
            "Row: [0 0 4 0 0 0 6 0 0]\n",
            "Row: [0 1 0 3 0 0 0 0 0]\n",
            "Row: [0 5 7 1 3 4 0 0 9]\n",
            "Row: [0 0 9 6 0 0 0 0 5]\n",
            "Row: [0 3 0 0 2 0 0 8 0]\n"
          ]
        }
      ],
      "source": [
        "for row in puzzle:\n",
        "    print(f\"Row: {row}\")"
      ]
    },
    {
      "cell_type": "markdown",
      "metadata": {
        "id": "KTzARUqQu4um"
      },
      "source": [
        "Now it's your turn:\n",
        "\n",
        "##### a) Iterate over the columns:"
      ]
    },
    {
      "cell_type": "code",
      "execution_count": 18,
      "metadata": {
        "colab": {
          "base_uri": "https://localhost:8080/"
        },
        "id": "D8Xk8JQtu4um",
        "outputId": "a4488a78-c073-4771-87a9-d7c20fe5f86d"
      },
      "outputs": [
        {
          "output_type": "stream",
          "name": "stdout",
          "text": [
            "Column: [0 4 6 0 0 0 0 0 0]\n",
            "Column: [2 0 0 0 0 1 5 0 3]\n",
            "Column: [0 0 0 0 4 0 7 9 0]\n",
            "Column: [0 0 4 0 0 3 1 6 0]\n",
            "Column: [8 0 5 0 0 0 3 0 2]\n",
            "Column: [0 6 3 2 0 0 4 0 0]\n",
            "Column: [0 8 9 0 6 0 0 0 0]\n",
            "Column: [5 0 7 9 0 0 0 0 8]\n",
            "Column: [0 0 0 0 0 0 9 5 0]\n"
          ]
        }
      ],
      "source": [
        "# Solution\n",
        "for col in puzzle.T:\n",
        "    print(f\"Column: {col}\")"
      ]
    },
    {
      "cell_type": "markdown",
      "metadata": {
        "id": "1GfUv2A1u4up"
      },
      "source": [
        "##### b) Iterate over the blocks:"
      ]
    },
    {
      "cell_type": "code",
      "execution_count": 19,
      "metadata": {
        "colab": {
          "base_uri": "https://localhost:8080/"
        },
        "id": "E6mTOqqVu4up",
        "outputId": "3cb7e343-921c-4e51-c7f6-7419d679c855"
      },
      "outputs": [
        {
          "output_type": "stream",
          "name": "stdout",
          "text": [
            "Block (0, 0):\n",
            "[[0 2 0]\n",
            " [4 0 0]\n",
            " [6 0 0]]\n",
            "Block (0, 1):\n",
            "[[0 8 0]\n",
            " [0 0 6]\n",
            " [4 5 3]]\n",
            "Block (0, 2):\n",
            "[[0 5 0]\n",
            " [8 0 0]\n",
            " [9 7 0]]\n",
            "Block (1, 0):\n",
            "[[0 0 0]\n",
            " [0 0 4]\n",
            " [0 1 0]]\n",
            "Block (1, 1):\n",
            "[[0 0 2]\n",
            " [0 0 0]\n",
            " [3 0 0]]\n",
            "Block (1, 2):\n",
            "[[0 9 0]\n",
            " [6 0 0]\n",
            " [0 0 0]]\n",
            "Block (2, 0):\n",
            "[[0 5 7]\n",
            " [0 0 9]\n",
            " [0 3 0]]\n",
            "Block (2, 1):\n",
            "[[1 3 4]\n",
            " [6 0 0]\n",
            " [0 2 0]]\n",
            "Block (2, 2):\n",
            "[[0 0 9]\n",
            " [0 0 5]\n",
            " [0 8 0]]\n"
          ]
        }
      ],
      "source": [
        "# Solution\n",
        "for pos_1 in range(3):\n",
        "    for pos_2 in range(3):\n",
        "        block = puzzle[(pos_1 * 3): ((pos_1+1) * 3), (pos_2 * 3): ((pos_2+1) * 3)]\n",
        "        print(f\"Block ({pos_1}, {pos_2}):\\n{block}\")"
      ]
    },
    {
      "cell_type": "markdown",
      "metadata": {
        "id": "0PBPfbhWu4up"
      },
      "source": [
        "## Time to test your code\n",
        "\n",
        "It's finally time to test your code. We'll use an OOP approach for our board. Here you'll find the `Board` class with empty methods. We'll provide some tests in the notebook, but your job will be to move your `Board` class to the file `sudoku.py` once it's ready. Let's get started:"
      ]
    },
    {
      "cell_type": "code",
      "execution_count": 20,
      "metadata": {
        "id": "ifY_rFL2u4up"
      },
      "outputs": [],
      "source": [
        "#### Solution ####\n",
        "class Board:\n",
        "    def __init__(self, puzzle):\n",
        "        if type(puzzle) == str:\n",
        "            puzzle = string_puzzle_to_arr(puzzle)\n",
        "        self.arr = puzzle\n",
        "\n",
        "    def get_row(self, row_index):\n",
        "        return self.arr[row_index]\n",
        "\n",
        "    def get_column(self, col_index):\n",
        "        return self.arr[:, col_index]\n",
        "\n",
        "    def get_block(self, pos_1, pos_2):\n",
        "        return self.arr[(pos_1 * 3): ((pos_1+1) * 3), (pos_2 * 3): ((pos_2+1) * 3)]\n",
        "\n",
        "    def iter_rows(self):\n",
        "        return [row for row in self.arr]\n",
        "\n",
        "\n",
        "    def iter_columns(self):\n",
        "        return [col for col in self.arr.T]\n",
        "\n",
        "    def iter_blocks(self):\n",
        "        return [self.arr[(pos_1 * 3): ((pos_1+1) * 3), (pos_2 * 3): ((pos_2+1) * 3)] for pos_1 in range(3) for pos_2 in range(3)]\n",
        "        # Simplified version for reading purposes:\n",
        "        # result = []\n",
        "        # for pos_1 in range(3):\n",
        "        #     for pos_2 in range(3):\n",
        "        #         block = self.arr[(pos_1 * 3): ((pos_1+1) * 3), (pos_2 * 3): ((pos_2+1) * 3)]\n",
        "        #         result.append(block)"
      ]
    },
    {
      "cell_type": "markdown",
      "metadata": {
        "id": "V3AF3MECu4up"
      },
      "source": [
        "##### 1) Test: creating boards\n",
        "\n",
        "There are two ways of creating `Board`s: 1) from strings 2) from other Numpy arrays. Let's test that they both work:"
      ]
    },
    {
      "cell_type": "code",
      "execution_count": 21,
      "metadata": {
        "id": "Gkp4ZiqYu4uq"
      },
      "outputs": [],
      "source": [
        "puzzle_str = \"\"\"\n",
        "020080050\n",
        "400006800\n",
        "600453970\n",
        "000002090\n",
        "004000600\n",
        "010300000\n",
        "057134009\n",
        "009600005\n",
        "030020080\n",
        "\"\"\""
      ]
    },
    {
      "cell_type": "code",
      "execution_count": 22,
      "metadata": {
        "id": "gdVQrbcau4uq"
      },
      "outputs": [],
      "source": [
        "board = Board(puzzle_str)"
      ]
    },
    {
      "cell_type": "code",
      "execution_count": 23,
      "metadata": {
        "id": "_BTdEz5ru4uq"
      },
      "outputs": [],
      "source": [
        "expected = np.array([\n",
        "    [0, 2, 0, 0, 8, 0, 0, 5, 0],\n",
        "    [4, 0, 0, 0, 0, 6, 8, 0, 0],\n",
        "    [6, 0, 0, 4, 5, 3, 9, 7, 0],\n",
        "    [0, 0, 0, 0, 0, 2, 0, 9, 0],\n",
        "    [0, 0, 4, 0, 0, 0, 6, 0, 0],\n",
        "    [0, 1, 0, 3, 0, 0, 0, 0, 0],\n",
        "    [0, 5, 7, 1, 3, 4, 0, 0, 9],\n",
        "    [0, 0, 9, 6, 0, 0, 0, 0, 5],\n",
        "    [0, 3, 0, 0, 2, 0, 0, 8, 0]\n",
        "])"
      ]
    },
    {
      "cell_type": "code",
      "execution_count": 24,
      "metadata": {
        "id": "pJFUASfIu4uq"
      },
      "outputs": [],
      "source": [
        "assert np.array_equal(board.arr, expected)"
      ]
    },
    {
      "cell_type": "code",
      "execution_count": 25,
      "metadata": {
        "id": "PFGt7CYnu4uq"
      },
      "outputs": [],
      "source": [
        "board = Board(np.array([\n",
        "    [0, 2, 0, 0, 8, 0, 0, 5, 0],\n",
        "    [4, 0, 0, 0, 0, 6, 8, 0, 0],\n",
        "    [6, 0, 0, 4, 5, 3, 9, 7, 0],\n",
        "    [0, 0, 0, 0, 0, 2, 0, 9, 0],\n",
        "    [0, 0, 4, 0, 0, 0, 6, 0, 0],\n",
        "    [0, 1, 0, 3, 0, 0, 0, 0, 0],\n",
        "    [0, 5, 7, 1, 3, 4, 0, 0, 9],\n",
        "    [0, 0, 9, 6, 0, 0, 0, 0, 5],\n",
        "    [0, 3, 0, 0, 2, 0, 0, 8, 0]\n",
        "]))"
      ]
    },
    {
      "cell_type": "code",
      "execution_count": 26,
      "metadata": {
        "id": "T9qpPr6Du4uq"
      },
      "outputs": [],
      "source": [
        "assert np.array_equal(board.arr, expected)"
      ]
    },
    {
      "cell_type": "markdown",
      "metadata": {
        "id": "wCPKPBBfu4uq"
      },
      "source": [
        "##### 2) Test: get rows"
      ]
    },
    {
      "cell_type": "code",
      "execution_count": 27,
      "metadata": {
        "id": "gnjV7fPeu4uq"
      },
      "outputs": [],
      "source": [
        "board = Board(puzzle_str)"
      ]
    },
    {
      "cell_type": "code",
      "execution_count": 28,
      "metadata": {
        "id": "2MVTbbJwu4uq"
      },
      "outputs": [],
      "source": [
        "assert np.array_equal(board.get_row(2), np.array([6, 0, 0, 4, 5, 3, 9, 7, 0]))"
      ]
    },
    {
      "cell_type": "markdown",
      "metadata": {
        "id": "H_wpT8fTu4uq"
      },
      "source": [
        "##### 3) Test: get columns"
      ]
    },
    {
      "cell_type": "code",
      "execution_count": 29,
      "metadata": {
        "id": "IKz-wkRVu4uq"
      },
      "outputs": [],
      "source": [
        "assert np.array_equal(board.get_column(4), np.array([8, 0, 5, 0, 0, 0, 3, 0, 2]))"
      ]
    },
    {
      "cell_type": "markdown",
      "metadata": {
        "id": "FveWhuQRu4ur"
      },
      "source": [
        "##### 4) Test: get blocks"
      ]
    },
    {
      "cell_type": "code",
      "execution_count": 30,
      "metadata": {
        "id": "sAEx39P8u4ur"
      },
      "outputs": [],
      "source": [
        "assert np.array_equal(board.get_block(1, 2), np.array([\n",
        "    [0, 9, 0],\n",
        "    [6, 0, 0],\n",
        "    [0, 0, 0]\n",
        "]))"
      ]
    },
    {
      "cell_type": "code",
      "execution_count": 31,
      "metadata": {
        "id": "zM8QH0FVu4ur"
      },
      "outputs": [],
      "source": [
        "assert np.array_equal(board.get_block(2, 2), np.array([\n",
        "    [0, 0, 9],\n",
        "    [0, 0, 5],\n",
        "    [0, 8, 0]\n",
        "]))"
      ]
    },
    {
      "cell_type": "markdown",
      "metadata": {
        "id": "u9NR74cou4ur"
      },
      "source": [
        "##### 5) Test: iter_rows()"
      ]
    },
    {
      "cell_type": "code",
      "execution_count": 32,
      "metadata": {
        "id": "qI8_ITLiu4ur"
      },
      "outputs": [],
      "source": [
        "assert np.array_equal(np.array(board.iter_rows()), np.array([\n",
        " np.array([0, 2, 0, 0, 8, 0, 0, 5, 0]),\n",
        " np.array([4, 0, 0, 0, 0, 6, 8, 0, 0]),\n",
        " np.array([6, 0, 0, 4, 5, 3, 9, 7, 0]),\n",
        " np.array([0, 0, 0, 0, 0, 2, 0, 9, 0]),\n",
        " np.array([0, 0, 4, 0, 0, 0, 6, 0, 0]),\n",
        " np.array([0, 1, 0, 3, 0, 0, 0, 0, 0]),\n",
        " np.array([0, 5, 7, 1, 3, 4, 0, 0, 9]),\n",
        " np.array([0, 0, 9, 6, 0, 0, 0, 0, 5]),\n",
        " np.array([0, 3, 0, 0, 2, 0, 0, 8, 0])]))"
      ]
    },
    {
      "cell_type": "markdown",
      "metadata": {
        "id": "DliA8NNgu4ur"
      },
      "source": [
        "##### 6) Test: iter_columns()"
      ]
    },
    {
      "cell_type": "code",
      "execution_count": 33,
      "metadata": {
        "id": "9lJiHSequ4ur"
      },
      "outputs": [],
      "source": [
        "assert np.array_equal(np.array(board.iter_columns()), np.array([\n",
        " np.array([0, 4, 6, 0, 0, 0, 0, 0, 0]),\n",
        " np.array([2, 0, 0, 0, 0, 1, 5, 0, 3]),\n",
        " np.array([0, 0, 0, 0, 4, 0, 7, 9, 0]),\n",
        " np.array([0, 0, 4, 0, 0, 3, 1, 6, 0]),\n",
        " np.array([8, 0, 5, 0, 0, 0, 3, 0, 2]),\n",
        " np.array([0, 6, 3, 2, 0, 0, 4, 0, 0]),\n",
        " np.array([0, 8, 9, 0, 6, 0, 0, 0, 0]),\n",
        " np.array([5, 0, 7, 9, 0, 0, 0, 0, 8]),\n",
        " np.array([0, 0, 0, 0, 0, 0, 9, 5, 0])]))"
      ]
    },
    {
      "cell_type": "markdown",
      "metadata": {
        "id": "TKx8Olgku4ur"
      },
      "source": [
        "## Ready to move on?\n",
        "\n",
        "Now copy your `Board` class into the file `sudoku.py`, we'll be using it in our next steps. Once you're ready, you can try running the tests using:\n"
      ]
    },
    {
      "cell_type": "code",
      "source": [
        "with open('test_part_1.py', 'w') as f:\n",
        "    f.write('''\n",
        "def test_example():\n",
        "    assert 1 + 1 == 2\n",
        "''')\n"
      ],
      "metadata": {
        "id": "bm1uIZFA2oVb"
      },
      "execution_count": 36,
      "outputs": []
    },
    {
      "cell_type": "code",
      "execution_count": 37,
      "metadata": {
        "colab": {
          "base_uri": "https://localhost:8080/"
        },
        "id": "lONYP1LNu4ur",
        "outputId": "b605b77c-19ba-4943-99b0-2b2ce8fd2e32"
      },
      "outputs": [
        {
          "output_type": "stream",
          "name": "stdout",
          "text": [
            "\u001b[1m======================================= test session starts ========================================\u001b[0m\n",
            "platform linux -- Python 3.10.12, pytest-7.4.4, pluggy-1.5.0\n",
            "rootdir: /content\n",
            "plugins: typeguard-4.3.0, anyio-3.7.1\n",
            "\u001b[1mcollecting ... \u001b[0m\u001b[1m\rcollected 1 item                                                                                   \u001b[0m\n",
            "\n",
            "test_part_1.py \u001b[32m.\u001b[0m\u001b[32m                                                                             [100%]\u001b[0m\n",
            "\n",
            "\u001b[32m======================================== \u001b[32m\u001b[1m1 passed\u001b[0m\u001b[32m in 0.01s\u001b[0m\u001b[32m =========================================\u001b[0m\n"
          ]
        }
      ],
      "source": [
        "!pytest test_part_1.py\n"
      ]
    },
    {
      "cell_type": "markdown",
      "metadata": {
        "id": "QQAAc8dZu4ur"
      },
      "source": [
        "Now head to Part 2! `2. Sudoku Validity.ipynb`."
      ]
    }
  ],
  "metadata": {
    "kernelspec": {
      "display_name": "Python 3",
      "language": "python",
      "name": "python3"
    },
    "language_info": {
      "codemirror_mode": {
        "name": "ipython",
        "version": 3
      },
      "file_extension": ".py",
      "mimetype": "text/x-python",
      "name": "python",
      "nbconvert_exporter": "python",
      "pygments_lexer": "ipython3",
      "version": "3.7.4"
    },
    "colab": {
      "provenance": [],
      "include_colab_link": true
    }
  },
  "nbformat": 4,
  "nbformat_minor": 0
}