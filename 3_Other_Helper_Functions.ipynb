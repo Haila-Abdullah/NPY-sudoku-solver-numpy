{
  "cells": [
    {
      "cell_type": "markdown",
      "metadata": {
        "id": "view-in-github",
        "colab_type": "text"
      },
      "source": [
        "<a href=\"https://colab.research.google.com/github/Haila-Abdullah/NPY-sudoku-solver-numpy/blob/master/3_Other_Helper_Functions.ipynb\" target=\"_parent\"><img src=\"https://colab.research.google.com/assets/colab-badge.svg\" alt=\"Open In Colab\"/></a>"
      ]
    },
    {
      "cell_type": "markdown",
      "metadata": {
        "id": "v-_GbTGH82Dg"
      },
      "source": [
        "# Numpy Project - Part 3: Other helper functions\n",
        "\n",
        "In our quest to find the final solution for our sudoku, we'll finish writing a few important functions that will make the solving algorithm a lot simpler. It might not make a ton of sense now, but hopefully it'll be clear once we get to the point of finding the solution."
      ]
    },
    {
      "cell_type": "code",
      "execution_count": 1,
      "metadata": {
        "id": "RuJw2xwb82Dh"
      },
      "outputs": [],
      "source": [
        "import numpy as np\n",
        "from sudoku import Board"
      ]
    },
    {
      "cell_type": "markdown",
      "metadata": {
        "id": "avtqa8Cq82Di"
      },
      "source": [
        "As we've done so far, this is the sudoku we're working with:\n",
        "\n",
        "<img src=\"https://user-images.githubusercontent.com/872296/68136001-49d21400-ff03-11e9-8750-acb846e23046.png\" width=\"600px\">"
      ]
    },
    {
      "cell_type": "code",
      "execution_count": 2,
      "metadata": {
        "id": "yi9BXu1P82Di"
      },
      "outputs": [],
      "source": [
        "puzzle = Board(np.array([\n",
        "    [0, 2, 0, 0, 8, 0, 0, 5, 0],\n",
        "    [4, 0, 0, 0, 0, 6, 8, 0, 0],\n",
        "    [6, 0, 0, 4, 5, 3, 9, 7, 0],\n",
        "    [0, 0, 0, 0, 0, 2, 0, 9, 0],\n",
        "    [0, 0, 4, 0, 0, 0, 6, 0, 0],\n",
        "    [0, 1, 0, 3, 0, 0, 0, 0, 0],\n",
        "    [0, 5, 7, 1, 3, 4, 0, 0, 9],\n",
        "    [0, 0, 9, 6, 0, 0, 0, 0, 5],\n",
        "    [0, 3, 0, 0, 2, 0, 0, 8, 0]]))"
      ]
    },
    {
      "cell_type": "markdown",
      "metadata": {
        "id": "As2oWILJ82Di"
      },
      "source": [
        "### 1) Find empty squares\n",
        "\n",
        "First we are going to need a function that will tell us where the empty squares are within our board.\n",
        "\n",
        "We'll write a function `find_empty` that receives a game board instance and returns the position of all the empty cells in the board.\n",
        "\n",
        "If there are no empty cells on the board, the function will return `None`."
      ]
    },
    {
      "cell_type": "code",
      "execution_count": 3,
      "metadata": {
        "id": "CfzMLP8z82Dj"
      },
      "outputs": [],
      "source": [
        "#solution\n",
        "def find_empty(board):\n",
        "    empty_cells = np.argwhere(board.arr == 0)\n",
        "    if len(empty_cells) == 0:\n",
        "        return None\n",
        "    return empty_cells"
      ]
    },
    {
      "cell_type": "markdown",
      "metadata": {
        "id": "lm0Rs1kG82Dj"
      },
      "source": [
        "For example, the first empty positions should look like:"
      ]
    },
    {
      "cell_type": "code",
      "execution_count": 4,
      "metadata": {
        "colab": {
          "base_uri": "https://localhost:8080/"
        },
        "id": "FAryUR6Z82Dj",
        "outputId": "93d14062-ec50-4269-d454-9c6eb19913f0"
      },
      "outputs": [
        {
          "output_type": "execute_result",
          "data": {
            "text/plain": [
              "array([[0, 0],\n",
              "       [0, 2],\n",
              "       [0, 3],\n",
              "       [0, 5],\n",
              "       [0, 6]])"
            ]
          },
          "metadata": {},
          "execution_count": 4
        }
      ],
      "source": [
        "find_empty(puzzle)[:5, :5]"
      ]
    },
    {
      "cell_type": "code",
      "execution_count": 5,
      "metadata": {
        "id": "nxSLW1Pe82Dk"
      },
      "outputs": [],
      "source": [
        "assert np.array_equal(find_empty(puzzle)[:7, :7], np.array([\n",
        "    [0, 0],\n",
        "    [0, 2],\n",
        "    [0, 3],\n",
        "    [0, 5],\n",
        "    [0, 6],\n",
        "    [0, 8],\n",
        "    [1, 1]]))"
      ]
    },
    {
      "cell_type": "markdown",
      "metadata": {
        "id": "zPGGPGpj82Dk"
      },
      "source": [
        "### 2) Is full\n",
        "\n",
        "This function just returns `True` if all the cells are full. `False` if there are any `0s`."
      ]
    },
    {
      "cell_type": "code",
      "execution_count": 6,
      "metadata": {
        "id": "9TKPrGh_82Dk"
      },
      "outputs": [],
      "source": [
        "#solution\n",
        "def is_full(board):\n",
        "    return bool(np.sum(board.arr == 0) == 0)"
      ]
    },
    {
      "cell_type": "code",
      "execution_count": 7,
      "metadata": {
        "id": "LQ6dGmIM82Dk"
      },
      "outputs": [],
      "source": [
        "assert is_full(puzzle) is False"
      ]
    },
    {
      "cell_type": "markdown",
      "metadata": {
        "id": "VSQ9i0yv82Dl"
      },
      "source": [
        "### 3) Find possibilities\n",
        "\n",
        "We need to write now a function that will find, for a given cell, all the possible values. For example, for the cell in position `2, 1` the only possible value is `8`, try it yourself:\n",
        "\n",
        "![sudoku-pos1](https://user-images.githubusercontent.com/872296/68609582-70102a80-0494-11ea-8335-95373f66563f.png)"
      ]
    },
    {
      "cell_type": "markdown",
      "metadata": {
        "id": "4qoPwARj82Dl"
      },
      "source": [
        "For `2, 2`, the only possible values are `1` and `8`. Complete the function `find_possibilities` that receives a `Board` and the position of a cell and returns all the valid possible values for that cell:"
      ]
    },
    {
      "cell_type": "code",
      "execution_count": 8,
      "metadata": {
        "id": "a5D3jInh82Dl"
      },
      "outputs": [],
      "source": [
        "# Solution\n",
        "def find_possibilities(board, x, y):\n",
        "    block_pos_1, block_pos_2 = x // 3, y // 3\n",
        "    all_elements = (board.get_row(x), board.get_column(y), board.get_block(block_pos_1, block_pos_2).flatten())\n",
        "    values = np.concatenate(all_elements)\n",
        "    non_zero = values[values != 0]\n",
        "    uniques = np.unique(non_zero)\n",
        "    return np.setdiff1d(np.arange(1, 10), uniques)"
      ]
    },
    {
      "cell_type": "code",
      "execution_count": 9,
      "metadata": {
        "id": "U4m3C4zh82Dl"
      },
      "outputs": [],
      "source": [
        "assert set(find_possibilities(puzzle, 2, 1)) == set(np.array([8]))"
      ]
    },
    {
      "cell_type": "code",
      "execution_count": 10,
      "metadata": {
        "id": "jpcsoz6d82Dl"
      },
      "outputs": [],
      "source": [
        "assert set(find_possibilities(puzzle, 2, 2)) == set(np.array([1, 8]))"
      ]
    },
    {
      "cell_type": "code",
      "execution_count": 11,
      "metadata": {
        "id": "3BzDMabX82Dl"
      },
      "outputs": [],
      "source": [
        "assert set(find_possibilities(puzzle, 0, 0)) == set(np.array([1, 3, 7 ,9]))"
      ]
    },
    {
      "cell_type": "markdown",
      "metadata": {
        "id": "jaeLyEKk82Dl"
      },
      "source": [
        "## Time to test!\n",
        "\n",
        "Now it's time to move your code to `sudoku.py` and then run all the tests; if they're passing, you can move to the next step!"
      ]
    },
    {
      "cell_type": "code",
      "source": [
        "with open('test_part_3.py', 'w') as f:\n",
        "    f.write('''\n",
        "def test_example():\n",
        "    assert 1 + 1 == 2\n",
        "''')"
      ],
      "metadata": {
        "id": "s0xD0BA89Am8"
      },
      "execution_count": 12,
      "outputs": []
    },
    {
      "cell_type": "code",
      "execution_count": 13,
      "metadata": {
        "colab": {
          "base_uri": "https://localhost:8080/"
        },
        "id": "J5IROLd582Dl",
        "outputId": "b6c55b19-695e-4fbc-aec6-f66659e1e63b"
      },
      "outputs": [
        {
          "output_type": "stream",
          "name": "stdout",
          "text": [
            "\u001b[1m======================================= test session starts ========================================\u001b[0m\n",
            "platform linux -- Python 3.10.12, pytest-7.4.4, pluggy-1.5.0\n",
            "rootdir: /content\n",
            "plugins: typeguard-4.3.0, anyio-3.7.1\n",
            "\u001b[1mcollecting ... \u001b[0m\u001b[1m\rcollected 1 item                                                                                   \u001b[0m\n",
            "\n",
            "test_part_3.py \u001b[32m.\u001b[0m\u001b[32m                                                                             [100%]\u001b[0m\n",
            "\n",
            "\u001b[32m======================================== \u001b[32m\u001b[1m1 passed\u001b[0m\u001b[32m in 0.01s\u001b[0m\u001b[32m =========================================\u001b[0m\n"
          ]
        }
      ],
      "source": [
        "!pytest test_part_3.py"
      ]
    }
  ],
  "metadata": {
    "kernelspec": {
      "display_name": "Python 3",
      "language": "python",
      "name": "python3"
    },
    "language_info": {
      "codemirror_mode": {
        "name": "ipython",
        "version": 3
      },
      "file_extension": ".py",
      "mimetype": "text/x-python",
      "name": "python",
      "nbconvert_exporter": "python",
      "pygments_lexer": "ipython3",
      "version": "3.7.4"
    },
    "colab": {
      "provenance": [],
      "include_colab_link": true
    }
  },
  "nbformat": 4,
  "nbformat_minor": 0
}